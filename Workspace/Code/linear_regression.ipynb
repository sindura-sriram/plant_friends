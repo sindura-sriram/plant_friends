{
  "nbformat": 4,
  "nbformat_minor": 0,
  "metadata": {
    "colab": {
      "name": "linear_regression.ipynb",
      "provenance": [],
      "collapsed_sections": []
    },
    "kernelspec": {
      "name": "python3",
      "display_name": "Python 3"
    },
    "language_info": {
      "name": "python"
    }
  },
  "cells": [
    {
      "cell_type": "code",
      "metadata": {
        "colab": {
          "base_uri": "https://localhost:8080/"
        },
        "id": "Fhydx8PNG3rp",
        "outputId": "f71ab16f-4124-4c47-9e58-314cf0d99aab"
      },
      "source": [
        "import pandas as pd\n",
        "import numpy as np\n",
        "from scipy import stats\n",
        "\n",
        "from google.colab import drive\n",
        "drive.mount('/content/drive')\n",
        "\n"
      ],
      "execution_count": 489,
      "outputs": [
        {
          "output_type": "stream",
          "text": [
            "Drive already mounted at /content/drive; to attempt to forcibly remount, call drive.mount(\"/content/drive\", force_remount=True).\n"
          ],
          "name": "stdout"
        }
      ]
    },
    {
      "cell_type": "code",
      "metadata": {
        "id": "2Y8GiJHPHFpp"
      },
      "source": [
        "#make a copy of this folder to your own drive, or change the data dir path\n",
        "tables_dir = '/content/drive/My Drive/core_tables_clustered'\n",
        "wheat_path = '/wheat'\n",
        "maize_path = '/maize'\n",
        "rice_path = '/rice'\n",
        "soybean_path = '/soybean'\n",
        "path_suffix = '.csv'\n",
        "crop = 'soybean'\n",
        "with open(tables_dir+ \"/\" + crop.lower() +path_suffix, 'r') as f:\n",
        "  df = pd.read_csv(f)\n"
      ],
      "execution_count": 490,
      "outputs": []
    },
    {
      "cell_type": "code",
      "metadata": {
        "id": "TiRWWXupZjj7",
        "colab": {
          "base_uri": "https://localhost:8080/"
        },
        "outputId": "bb09644e-7586-45f3-d110-2b9c2aec9d65"
      },
      "source": [
        "sample_years = list(range(1981, 2015))\n",
        "yield_years = ['yield_' + str(year) for year in sample_years]\n",
        "\n",
        "#check if all yield are 0, discard those\n",
        "df_yields = df[yield_years]\n",
        "df = df.loc[(df_yields != 0).any(axis=1), :]\n",
        "\n",
        "df.shape"
      ],
      "execution_count": 491,
      "outputs": [
        {
          "output_type": "execute_result",
          "data": {
            "text/plain": [
              "(1429, 72)"
            ]
          },
          "metadata": {
            "tags": []
          },
          "execution_count": 491
        }
      ]
    },
    {
      "cell_type": "code",
      "metadata": {
        "id": "97_1gN5CYCHJ"
      },
      "source": [
        "sample_years = list(range(1981, 2015))\n",
        "yield_years = ['yield_' + str(year) for year in sample_years]\n",
        "\n",
        "#check if all yield are 0, discard those\n",
        "df_yields = df[yield_years]\n",
        "df = df.loc[(df_yields != 0).any(axis=1), :]\n",
        "\n",
        "df.shape\n",
        "\n",
        "average_temp_years = ['average_temp_' + str(year) for year in sample_years] + ['state']\n",
        "yield_years = yield_years + ['state']\n",
        "X = df[average_temp_years]\n",
        "y = df[yield_years]\n",
        "\n",
        "\n",
        "#Group temp and yield with the same state\n",
        "states = list(set(df['state'].tolist()))\n",
        "state_X, state_Y = defaultdict(list), defaultdict(list)\n",
        "for state in states:\n",
        "  df_state_X = df[average_temp_years]\n",
        "  df_state_Y = df[yield_years]\n",
        "  state_X[state] = df_state_X[df_state_X['state'] == state]\n",
        "  state_Y[state] = df_state_Y[df_state_Y['state'] == state]\n",
        "  #reshape the data points we have for each state\n",
        "  state_X[state] = np.array(state_X[state].iloc[:, :-1]).flatten().reshape((state_X[state].shape[0]*(state_X[state].shape[1]-1), 1))\n",
        "  state_Y[state] = np.array(state_Y[state].iloc[:, :-1]).flatten().reshape((state_Y[state].shape[0]*(state_Y[state].shape[1]-1), 1))\n",
        "\n",
        "\n",
        "X = np.array(X.iloc[:, :-1]).flatten()\n",
        "y = np.array(y.iloc[:, :-1]).flatten()\n",
        "\n",
        "\n",
        "\n",
        "nonzero_indices = np.nonzero(y)\n",
        "X = X[nonzero_indices]\n",
        "y = y[nonzero_indices]\n",
        "X = X.reshape(-1, 1)\n",
        "y = y.reshape(-1, 1)\n",
        "\n"
      ],
      "execution_count": 492,
      "outputs": []
    },
    {
      "cell_type": "code",
      "metadata": {
        "colab": {
          "base_uri": "https://localhost:8080/"
        },
        "id": "Zs0wjoSn0Aa8",
        "outputId": "685f8a52-b3c3-4bbc-97f0-852d7f5af817"
      },
      "source": [
        "from sklearn import linear_model\n",
        "from sklearn.model_selection import train_test_split\n",
        "from sklearn.metrics import mean_squared_error, r2_score\n",
        "\n",
        "reg = linear_model.LinearRegression()\n",
        "\n",
        "X_train, X_test, y_train, y_test = train_test_split(X, y, test_size=0.2, shuffle=True, random_state=42)\n",
        "reg.fit(X_train, y_train)\n",
        "y_pred = reg.predict(X_test)\n",
        "print('Coefficients: \\n', reg.coef_)\n",
        "print('Mean squared error: %.2f'\n",
        "      % mean_squared_error(y_test, y_pred))\n",
        "print('Coefficient of determination: %.2f'\n",
        "      % r2_score(y_test, y_pred))"
      ],
      "execution_count": 493,
      "outputs": [
        {
          "output_type": "stream",
          "text": [
            "Coefficients: \n",
            " [[0.0198152]]\n",
            "Mean squared error: 1.04\n",
            "Coefficient of determination: 0.00\n"
          ],
          "name": "stdout"
        }
      ]
    },
    {
      "cell_type": "code",
      "metadata": {
        "colab": {
          "base_uri": "https://localhost:8080/",
          "height": 295
        },
        "id": "qbLZZ-zo2XjC",
        "outputId": "e12face4-173b-4ba6-e2ac-d00e31887470"
      },
      "source": [
        "import matplotlib.pyplot as plt\n",
        "\n",
        "plt.plot(X_test, y_pred, color='xkcd:cerulean', linewidth=3)\n",
        "plt.scatter(X_test, y_test, color='xkcd:light green')\n",
        "plt.xlabel('Temperature (C)')\n",
        "plt.ylabel('Crop Yield (Tons/Hectare)')\n",
        "plt.title(\"Temperature v. Yield for \" + crop)\n",
        "\n",
        "plt.show()"
      ],
      "execution_count": 494,
      "outputs": [
        {
          "output_type": "display_data",
          "data": {
            "image/png": "[encoded data removed]",
            "text/plain": [
              "<Figure size 432x288 with 1 Axes>"
            ]
          },
          "metadata": {
            "tags": [],
            "needs_background": "light"
          }
        }
      ]
    },
    {
      "cell_type": "code",
      "metadata": {
        "colab": {
          "base_uri": "https://localhost:8080/"
        },
        "id": "DVlZ2Tiv9RSU",
        "outputId": "58e41e86-6c48-4a7d-8e4b-cee3c6d5b4e9"
      },
      "source": [
        "# get residuals for training data and testing data (residuals = difference in real and predicted values)\n",
        "predicted_x_train = reg.predict(X_train)\n",
        "predicted_x_test = reg.predict(X_test)\n",
        "\n",
        "x_train_res = X_train - predicted_x_train\n",
        "x_test_res = X_test - predicted_x_test\n",
        "\n",
        "t_statistic, p_value = stats.ttest_1samp(x_test_res, 0)\n",
        "\n",
        "print(\"Mean of test residuals = \" + str(np.average(x_test_res)))\n",
        "\n",
        "print(\"Test Stat = \" + str(t_statistic))\n",
        "print(\"Test P Val = \" + str(p_value))\n",
        "\n",
        "t_stat_compare, p_val_compare = stats.ttest_ind(x_train_res, x_test_res)\n",
        "\n",
        "print(\"Compare Stat = \" + str(t_stat_compare))\n",
        "print(\"Compare P Val = \" + str(p_val_compare))"
      ],
      "execution_count": 495,
      "outputs": [
        {
          "output_type": "stream",
          "text": [
            "Mean of test residuals = 9.542747248447595\n",
            "Test Stat = [211.69658389]\n",
            "Test P Val = [0.]\n",
            "Compare Stat = [-0.34822489]\n",
            "Compare P Val = [0.72767282]\n"
          ],
          "name": "stdout"
        }
      ]
    },
    {
      "cell_type": "code",
      "metadata": {
        "colab": {
          "base_uri": "https://localhost:8080/"
        },
        "id": "SPrh62igIzvl",
        "outputId": "f5f0ca58-b413-4960-a5c8-9a56d7a15c0e"
      },
      "source": [
        "r_squared_list = []\n",
        "best_state = None\n",
        "best_r_squared = float('-inf')\n",
        "worst_r_squared = float('inf')\n",
        "worst_state = None\n",
        "X_list = []\n",
        "y_pred_list = []\n",
        "for state in states:\n",
        "  X = state_X[state]\n",
        "  y = state_Y[state]\n",
        "\n",
        "  nonzero_indices = np.nonzero(y)\n",
        "  X = X[nonzero_indices]\n",
        "  y = y[nonzero_indices]\n",
        "  X = X.reshape(-1, 1)\n",
        "  y = y.reshape(-1, 1)\n",
        "\n",
        "  X_train, X_test, y_train, y_test = train_test_split(X, y, test_size=0.2, shuffle=True, random_state=42)\n",
        "  reg.fit(X_train, y_train)\n",
        "  y_pred = reg.predict(X_test)\n",
        "\n",
        "\n",
        "  # X_list.append(X_test)\n",
        "  # y_pred_list.append(y_pred)\n",
        "\n",
        "  r_squared = r2_score(y_test, y_pred)\n",
        "  r_squared_list.append(r_squared)\n",
        "  if r_squared > best_r_squared:\n",
        "    best_r_squared = r_squared\n",
        "    best_state = state\n",
        "    best_X = X_test\n",
        "    best_y = y_pred\n",
        "  if r_squared < worst_r_squared:\n",
        "    worst_r_squared = r_squared\n",
        "    worst_state = state\n",
        "    worst_X = X_test\n",
        "    worst_y = y_pred\n",
        "\n",
        "print(\"Best State: {}, Best R-squared: {}, Average R-squared: {}\".format(best_state, best_r_squared, np.average(r_squared_list)))\n",
        "all_r_squareds.append(r_squared_list)"
      ],
      "execution_count": 496,
      "outputs": [
        {
          "output_type": "stream",
          "text": [
            "Best State: New Jersey, Best R-squared: 0.4434732560354995, Average R-squared: 0.061726704602733676\n"
          ],
          "name": "stdout"
        }
      ]
    },
    {
      "cell_type": "code",
      "metadata": {
        "colab": {
          "base_uri": "https://localhost:8080/",
          "height": 295
        },
        "id": "j8WgRUDn8bHg",
        "outputId": "836721bc-7f2a-494b-8948-6a94591272b7"
      },
      "source": [
        "import matplotlib.pyplot as plt\n",
        "\n",
        "\n",
        "plt.plot(best_X, best_y, color='green', linewidth=3, label=best_state + \": R^2 = %.3f\" %best_r_squared)\n",
        "plt.plot(worst_X, worst_y, color='red', linewidth=3, label=worst_state + \": R^2 = %.3f\" %worst_r_squared)\n",
        "plt.legend()\n",
        "plt.xlabel('Temperature (C)')\n",
        "plt.ylabel('Crop Yield (Tons/Hectare)')\n",
        "plt.title(\"Comparison of States with best and worst R^2 values for \" + crop)\n",
        "plt.show()"
      ],
      "execution_count": 497,
      "outputs": [
        {
          "output_type": "display_data",
          "data": {
            "image/png": "[encoded data removed]",
            "text/plain": [
              "<Figure size 432x288 with 1 Axes>"
            ]
          },
          "metadata": {
            "tags": [],
            "needs_background": "light"
          }
        }
      ]
    },
    {
      "cell_type": "code",
      "metadata": {
        "colab": {
          "base_uri": "https://localhost:8080/"
        },
        "id": "hZVWUrOIJD26",
        "outputId": "5a3b95ff-0a06-4dd7-d422-0e5267cf63ef"
      },
      "source": [
        "from collections import defaultdict\n",
        "from sklearn import linear_model\n",
        "from sklearn.preprocessing import PolynomialFeatures\n",
        "from sklearn.pipeline import make_pipeline\n",
        "from sklearn.model_selection import train_test_split\n",
        "from sklearn.metrics import mean_squared_error, r2_score\n",
        "\n",
        "crops = ['maize', 'rice', 'soybean', 'wheat']\n",
        "all_r_squareds = []\n",
        "for crop in crops:\n",
        "  print(crop)\n",
        "  with open(tables_dir+ \"/\" + crop.lower() +path_suffix, 'r') as f:\n",
        "    df = pd.read_csv(f)\n",
        "\n",
        "  sample_years = list(range(1981, 2015))\n",
        "  yield_years = ['yield_' + str(year) for year in sample_years]\n",
        "\n",
        "  #check if all yield are 0, discard those\n",
        "  df_yields = df[yield_years]\n",
        "  df = df.loc[(df_yields != 0).any(axis=1), :]\n",
        "\n",
        "  average_temp_years = ['average_temp_' + str(year) for year in sample_years] + ['state']\n",
        "  yield_years = yield_years + ['state']\n",
        "  X = df[average_temp_years]\n",
        "  y = df[yield_years]\n",
        "  \n",
        "  #Group temp and yield with the same state\n",
        "  states = list(set(df['state'].tolist()))\n",
        "  state_X, state_Y = defaultdict(list), defaultdict(list)\n",
        "  for state in states:\n",
        "    df_state_X = df[average_temp_years]\n",
        "    df_state_Y = df[yield_years]\n",
        "    state_X[state] = df_state_X[df_state_X['state'] == state]\n",
        "    state_Y[state] = df_state_Y[df_state_Y['state'] == state]\n",
        "    #reshape the data points we have for each state\n",
        "    state_X[state] = np.array(state_X[state].iloc[:, :-1]).flatten().reshape((state_X[state].shape[0]*(state_X[state].shape[1]-1), 1))\n",
        "    state_Y[state] = np.array(state_Y[state].iloc[:, :-1]).flatten().reshape((state_Y[state].shape[0]*(state_Y[state].shape[1]-1), 1))\n",
        "\n",
        "\n",
        "  X = np.array(X.iloc[:, :-1]).flatten()\n",
        "  y = np.array(y.iloc[:, :-1]).flatten()\n",
        "\n",
        "\n",
        "\n",
        "  nonzero_indices = np.nonzero(y)\n",
        "  X = X[nonzero_indices]\n",
        "  y = y[nonzero_indices]\n",
        "  X = X.reshape(-1, 1)\n",
        "  y = y.reshape(-1, 1)\n",
        "\n",
        "  r_squared_list = []\n",
        "  best_state = None\n",
        "  best_r_squared = float('-inf')\n",
        "  worst_r_squared = float('inf')\n",
        "  worst_state = None\n",
        "  X_list = []\n",
        "  y_pred_list = []\n",
        "  for state in states:\n",
        "    X = state_X[state]\n",
        "    y = state_Y[state]\n",
        "\n",
        "    nonzero_indices = np.nonzero(y)\n",
        "    X = X[nonzero_indices]\n",
        "    y = y[nonzero_indices]\n",
        "    X = X.reshape(-1, 1)\n",
        "    y = y.reshape(-1, 1)\n",
        "\n",
        "    X_train, X_test, y_train, y_test = train_test_split(X, y, test_size=0.2, shuffle=True, random_state=42)\n",
        "    reg.fit(X_train, y_train)\n",
        "    y_pred = reg.predict(X_test)\n",
        "\n",
        "\n",
        "    r_squared = r2_score(y_test, y_pred)\n",
        "    r_squared_list.append(r_squared)\n",
        "    if r_squared > best_r_squared:\n",
        "      best_r_squared = r_squared\n",
        "      best_state = state\n",
        "      best_X = X_test\n",
        "      best_y = y_pred\n",
        "    if r_squared < worst_r_squared:\n",
        "      worst_r_squared = r_squared\n",
        "      worst_state = state\n",
        "      worst_X = X_test\n",
        "      worst_y = y_pred\n",
        "\n",
        "  print(\"Best State: {}, Best R-squared: {}, Average R-squared: {}\".format(best_state, best_r_squared, np.average(r_squared_list)))\n",
        "  all_r_squareds.append(r_squared_list)\n"
      ],
      "execution_count": 498,
      "outputs": [
        {
          "output_type": "stream",
          "text": [
            "maize\n",
            "Best State: New Jersey, Best R-squared: 0.3906125934337882, Average R-squared: 0.0777112006700363\n",
            "rice\n",
            "Best State: Texas, Best R-squared: 0.2863447669330944, Average R-squared: 0.04156069502412904\n",
            "soybean\n",
            "Best State: New Jersey, Best R-squared: 0.4434732560354995, Average R-squared: 0.061726704602733676\n",
            "wheat\n",
            "Best State: Mississippi, Best R-squared: 0.3556735567930118, Average R-squared: 0.09330719708852019\n"
          ],
          "name": "stdout"
        }
      ]
    },
    {
      "cell_type": "code",
      "metadata": {
        "colab": {
          "base_uri": "https://localhost:8080/",
          "height": 349
        },
        "id": "Yg1WGS4KUqTI",
        "outputId": "f6bb76c4-2411-4854-d38e-c755daccd42a"
      },
      "source": [
        "import matplotlib.pyplot as plt\n",
        "\n",
        "\n",
        "plt.boxplot(all_r_squareds, whis=(0, 100), labels=crops, showfliers=False)\n",
        "plt.xlabel(\"Crop\")\n",
        "plt.ylabel(\"R-Squared\")\n",
        "\n",
        "plt.title(\"Comparison of R-Squared values across the crop datasets\")\n",
        "plt.show()"
      ],
      "execution_count": 499,
      "outputs": [
        {
          "output_type": "stream",
          "text": [
            "/usr/local/lib/python3.7/dist-packages/numpy/core/_asarray.py:83: VisibleDeprecationWarning: Creating an ndarray from ragged nested sequences (which is a list-or-tuple of lists-or-tuples-or ndarrays with different lengths or shapes) is deprecated. If you meant to do this, you must specify 'dtype=object' when creating the ndarray\n",
            "  return array(a, dtype, copy=False, order=order)\n"
          ],
          "name": "stderr"
        },
        {
          "output_type": "display_data",
          "data": {
            "image/png": "[encoded data removed]",
            "text/plain": [
              "<Figure size 432x288 with 1 Axes>"
            ]
          },
          "metadata": {
            "tags": [],
            "needs_background": "light"
          }
        }
      ]
    }
  ]
}